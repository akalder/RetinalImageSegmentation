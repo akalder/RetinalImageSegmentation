{
 "cells": [
  {
   "cell_type": "code",
   "execution_count": 170,
   "metadata": {},
   "outputs": [],
   "source": [
    "import tensorflow as tf\n",
    "from glob import glob\n",
    "import os\n",
    "import random\n",
    "import numpy as np\n",
    "import cv2\n",
    "from skimage.io import imread, imshow\n",
    "from PIL import Image\n",
    "from matplotlib import pyplot as plt\n",
    "import imageio\n",
    "from tqdm import tqdm"
   ]
  },
  {
   "cell_type": "code",
   "execution_count": 171,
   "metadata": {},
   "outputs": [],
   "source": [
    "IMG_WIDTH = 512\n",
    "IMG_HEIGHT = 512\n",
    "IMG_CHANNELS = 3"
   ]
  },
  {
   "attachments": {},
   "cell_type": "markdown",
   "metadata": {},
   "source": [
    "Load data"
   ]
  },
  {
   "cell_type": "code",
   "execution_count": 172,
   "metadata": {},
   "outputs": [
    {
     "name": "stdout",
     "output_type": "stream",
     "text": [
      "Train: 20 - 20\n",
      "Test: 20 - 20\n"
     ]
    }
   ],
   "source": [
    "data_path = 'DatasetRetina' \n",
    "\n",
    "train_x = sorted(glob(os.path.join(data_path, \"training\", \"images\", \"*.tif\")))\n",
    "train_y = sorted(glob(os.path.join(data_path, \"training\", \"mask\", \"*.gif\")))\n",
    "\n",
    "test_x = sorted(glob(os.path.join(data_path, \"test\", \"images\", \"*.tif\")))\n",
    "test_y = sorted(glob(os.path.join(data_path, \"test\", \"mask\", \"*.gif\")))\n",
    "\n",
    "print(f\"Train: {len(train_x)} - {len(train_y)}\")\n",
    "print(f\"Test: {len(test_x)} - {len(test_y)}\")\n",
    "\n",
    "\n"
   ]
  },
  {
   "cell_type": "code",
   "execution_count": 173,
   "metadata": {},
   "outputs": [],
   "source": [
    "if not os.path.exists(\"new_data/train/image\"):\n",
    "    os.makedirs(\"new_data/train/image\")\n",
    "if not os.path.exists(\"new_data/train/mask\"):    \n",
    "    os.makedirs(\"new_data/train/mask\")\n",
    "if not os.path.exists(\"new_data/test/image\"):\n",
    "    os.makedirs(\"new_data/test/image\")\n",
    "if not os.path.exists(\"new_data/test/mask\"):\n",
    "    os.makedirs(\"new_data/test/mask\")\n",
    "\n"
   ]
  },
  {
   "attachments": {},
   "cell_type": "markdown",
   "metadata": {},
   "source": [
    "New JPEG Training data"
   ]
  },
  {
   "cell_type": "code",
   "execution_count": 174,
   "metadata": {},
   "outputs": [
    {
     "name": "stderr",
     "output_type": "stream",
     "text": [
      "100%|██████████| 20/20 [00:03<00:00,  5.94it/s]\n"
     ]
    }
   ],
   "source": [
    "for idx, (x, y) in tqdm(enumerate(zip(train_x, train_y)), total=len(test_x)):\n",
    "    x = x.replace('\\\\', '/')\n",
    "    y = y.replace('\\\\', '/')\n",
    "    name = x.split(\"/\")[-1].split(\".\")[0]\n",
    "    x = cv2.imread(x, cv2.IMREAD_COLOR)\n",
    "    y = imageio.mimread(y)[0]\n",
    "    X = [x]\n",
    "    Y = [y]\n",
    "    for i, m in zip(X, Y):\n",
    "        i = cv2.resize(i, (IMG_WIDTH, IMG_HEIGHT))\n",
    "        m = cv2.resize(m, (IMG_WIDTH, IMG_HEIGHT))\n",
    "        tmp_image_name = f\"{name}.jpg\"\n",
    "        tmp_mask_name = f\"{name}.jpg\"\n",
    "        image_path = os.path.join(\"new_data/train/\", \"image\", tmp_image_name)\n",
    "        mask_path = os.path.join(\"new_data/train/\", \"mask\", tmp_mask_name)\n",
    "        cv2.imwrite(image_path, i)\n",
    "        cv2.imwrite(mask_path, m)"
   ]
  },
  {
   "attachments": {},
   "cell_type": "markdown",
   "metadata": {},
   "source": [
    "New JPEG Testing data"
   ]
  },
  {
   "cell_type": "code",
   "execution_count": 175,
   "metadata": {},
   "outputs": [
    {
     "name": "stderr",
     "output_type": "stream",
     "text": [
      "100%|██████████| 20/20 [00:03<00:00,  6.35it/s]\n"
     ]
    }
   ],
   "source": [
    "for idx, (x, y) in tqdm(enumerate(zip(test_x, test_y)), total=len(train_x)):\n",
    "    x = x.replace('\\\\', '/')\n",
    "    y = y.replace('\\\\', '/')\n",
    "    name = x.split(\"/\")[-1].split(\".\")[0]\n",
    "    x = cv2.imread(x, cv2.IMREAD_COLOR)\n",
    "    y = imageio.mimread(y)[0]\n",
    "    X = [x]\n",
    "    Y = [y]\n",
    "    for i, m in zip(X, Y):\n",
    "        i = cv2.resize(i, (IMG_WIDTH, IMG_HEIGHT))\n",
    "        m = cv2.resize(m, (IMG_WIDTH, IMG_HEIGHT))\n",
    "        tmp_image_name = f\"{name}.jpg\"\n",
    "        tmp_mask_name = f\"{name}.jpg\"\n",
    "        image_path = os.path.join(\"new_data/test/\", \"image\", tmp_image_name)\n",
    "        mask_path = os.path.join(\"new_data/test/\", \"mask\", tmp_mask_name)\n",
    "        cv2.imwrite(image_path, i)\n",
    "        cv2.imwrite(mask_path, m)"
   ]
  },
  {
   "attachments": {},
   "cell_type": "markdown",
   "metadata": {},
   "source": [
    "Filling arrays of X_train and y_train"
   ]
  },
  {
   "cell_type": "code",
   "execution_count": 176,
   "metadata": {},
   "outputs": [],
   "source": [
    "TRAIN_PATH = 'new_data/train/'\n",
    "\n",
    "train_image = os.listdir(TRAIN_PATH + \"image/\")\n",
    "train_mask = os.listdir(TRAIN_PATH + 'mask/')\n",
    "\n",
    "X_train = []\n",
    "y_train = []\n",
    "\n",
    "for n, id_ in enumerate(train_image):   \n",
    "    path = TRAIN_PATH + 'image/' + id_\n",
    "    img = cv2.imread(path)\n",
    "    img = Image.fromarray(img, 'RGB')\n",
    "    X_train.append(np.array(img))\n",
    "\n",
    "for n, id_ in enumerate(train_mask):   \n",
    "    path = TRAIN_PATH + 'mask/' + id_\n",
    "    img = cv2.imread(path, 0)\n",
    "    img = Image.fromarray(img)\n",
    "    y_train.append(np.array(img))\n"
   ]
  },
  {
   "cell_type": "code",
   "execution_count": 177,
   "metadata": {},
   "outputs": [],
   "source": [
    "TEST_PATH = 'new_data/test/'\n",
    "\n",
    "test_image = os.listdir(TEST_PATH + \"image/\") \n",
    "test_mask = os.listdir(TEST_PATH + \"mask/\")\n",
    "\n",
    "X_test = []\n",
    "y_test = []\n",
    "for n, id_ in enumerate(train_image):   \n",
    "    path = TRAIN_PATH + 'image/' + id_\n",
    "    img = cv2.imread(path)\n",
    "    img = Image.fromarray(img, 'RGB')\n",
    "    X_test.append(np.array(img))\n",
    "\n",
    "for n, id_ in enumerate(test_mask):   \n",
    "    path = TEST_PATH + 'mask/' + id_\n",
    "    img = cv2.imread(path, 0)\n",
    "    img = Image.fromarray(img)\n",
    "    y_test.append(np.array(img))"
   ]
  },
  {
   "cell_type": "code",
   "execution_count": 194,
   "metadata": {},
   "outputs": [
    {
     "data": {
      "text/plain": [
       "'21_training.jpg'"
      ]
     },
     "execution_count": 194,
     "metadata": {},
     "output_type": "execute_result"
    }
   ],
   "source": [
    "temp_path = TRAIN_PATH + 'image/'\n",
    "train_ids = next(os.walk(temp_path))[2]\n",
    "train_ids[0]"
   ]
  },
  {
   "cell_type": "code",
   "execution_count": 178,
   "metadata": {},
   "outputs": [
    {
     "data": {
      "text/plain": [
       "<matplotlib.image.AxesImage at 0x270801050c0>"
      ]
     },
     "execution_count": 178,
     "metadata": {},
     "output_type": "execute_result"
    },
    {
     "data": {
      "image/png": "[encoded data removed]",
      "text/plain": [
       "<Figure size 640x480 with 1 Axes>"
      ]
     },
     "metadata": {},
     "output_type": "display_data"
    }
   ],
   "source": [
    "plt.imshow(y_test[0])"
   ]
  },
  {
   "cell_type": "code",
   "execution_count": 179,
   "metadata": {},
   "outputs": [
    {
     "data": {
      "text/plain": [
       "(512, 512)"
      ]
     },
     "execution_count": 179,
     "metadata": {},
     "output_type": "execute_result"
    }
   ],
   "source": [
    "y_train[0].shape"
   ]
  },
  {
   "attachments": {},
   "cell_type": "markdown",
   "metadata": {},
   "source": [
    "Build model"
   ]
  },
  {
   "cell_type": "code",
   "execution_count": 180,
   "metadata": {},
   "outputs": [
    {
     "name": "stdout",
     "output_type": "stream",
     "text": [
      "Model: \"model_7\"\n",
      "__________________________________________________________________________________________________\n",
      " Layer (type)                   Output Shape         Param #     Connected to                     \n",
      "==================================================================================================\n",
      " input_8 (InputLayer)           [(None, 512, 512, 3  0           []                               \n",
      "                                )]                                                                \n",
      "                                                                                                  \n",
      " conv2d_140 (Conv2D)            (None, 512, 512, 64  1792        ['input_8[0][0]']                \n",
      "                                )                                                                 \n",
      "                                                                                                  \n",
      " conv2d_141 (Conv2D)            (None, 512, 512, 64  36928       ['conv2d_140[0][0]']             \n",
      "                                )                                                                 \n",
      "                                                                                                  \n",
      " max_pooling2d_28 (MaxPooling2D  (None, 256, 256, 64  0          ['conv2d_141[0][0]']             \n",
      " )                              )                                                                 \n",
      "                                                                                                  \n",
      " conv2d_142 (Conv2D)            (None, 256, 256, 12  73856       ['max_pooling2d_28[0][0]']       \n",
      "                                8)                                                                \n",
      "                                                                                                  \n",
      " conv2d_143 (Conv2D)            (None, 256, 256, 12  147584      ['conv2d_142[0][0]']             \n",
      "                                8)                                                                \n",
      "                                                                                                  \n",
      " max_pooling2d_29 (MaxPooling2D  (None, 128, 128, 12  0          ['conv2d_143[0][0]']             \n",
      " )                              8)                                                                \n",
      "                                                                                                  \n",
      " conv2d_144 (Conv2D)            (None, 128, 128, 25  295168      ['max_pooling2d_29[0][0]']       \n",
      "                                6)                                                                \n",
      "                                                                                                  \n",
      " conv2d_145 (Conv2D)            (None, 128, 128, 25  590080      ['conv2d_144[0][0]']             \n",
      "                                6)                                                                \n",
      "                                                                                                  \n",
      " max_pooling2d_30 (MaxPooling2D  (None, 64, 64, 256)  0          ['conv2d_145[0][0]']             \n",
      " )                                                                                                \n",
      "                                                                                                  \n",
      " conv2d_146 (Conv2D)            (None, 64, 64, 512)  1180160     ['max_pooling2d_30[0][0]']       \n",
      "                                                                                                  \n",
      " conv2d_147 (Conv2D)            (None, 64, 64, 512)  2359808     ['conv2d_146[0][0]']             \n",
      "                                                                                                  \n",
      " dropout_14 (Dropout)           (None, 64, 64, 512)  0           ['conv2d_147[0][0]']             \n",
      "                                                                                                  \n",
      " max_pooling2d_31 (MaxPooling2D  (None, 32, 32, 512)  0          ['dropout_14[0][0]']             \n",
      " )                                                                                                \n",
      "                                                                                                  \n",
      " conv2d_148 (Conv2D)            (None, 32, 32, 1024  4719616     ['max_pooling2d_31[0][0]']       \n",
      "                                )                                                                 \n",
      "                                                                                                  \n",
      " conv2d_149 (Conv2D)            (None, 32, 32, 1024  9438208     ['conv2d_148[0][0]']             \n",
      "                                )                                                                 \n",
      "                                                                                                  \n",
      " dropout_15 (Dropout)           (None, 32, 32, 1024  0           ['conv2d_149[0][0]']             \n",
      "                                )                                                                 \n",
      "                                                                                                  \n",
      " conv2d_transpose_28 (Conv2DTra  (None, 64, 64, 512)  2097664    ['dropout_15[0][0]']             \n",
      " nspose)                                                                                          \n",
      "                                                                                                  \n",
      " concatenate_28 (Concatenate)   (None, 64, 64, 1024  0           ['conv2d_transpose_28[0][0]',    \n",
      "                                )                                 'dropout_14[0][0]']             \n",
      "                                                                                                  \n",
      " conv2d_150 (Conv2D)            (None, 64, 64, 512)  4719104     ['concatenate_28[0][0]']         \n",
      "                                                                                                  \n",
      " conv2d_151 (Conv2D)            (None, 64, 64, 512)  2359808     ['conv2d_150[0][0]']             \n",
      "                                                                                                  \n",
      " conv2d_transpose_29 (Conv2DTra  (None, 128, 128, 25  524544     ['conv2d_151[0][0]']             \n",
      " nspose)                        6)                                                                \n",
      "                                                                                                  \n",
      " concatenate_29 (Concatenate)   (None, 128, 128, 51  0           ['conv2d_transpose_29[0][0]',    \n",
      "                                2)                                'conv2d_145[0][0]']             \n",
      "                                                                                                  \n",
      " conv2d_152 (Conv2D)            (None, 128, 128, 25  1179904     ['concatenate_29[0][0]']         \n",
      "                                6)                                                                \n",
      "                                                                                                  \n",
      " conv2d_153 (Conv2D)            (None, 128, 128, 25  590080      ['conv2d_152[0][0]']             \n",
      "                                6)                                                                \n",
      "                                                                                                  \n",
      " conv2d_transpose_30 (Conv2DTra  (None, 256, 256, 12  131200     ['conv2d_153[0][0]']             \n",
      " nspose)                        8)                                                                \n",
      "                                                                                                  \n",
      " concatenate_30 (Concatenate)   (None, 256, 256, 25  0           ['conv2d_transpose_30[0][0]',    \n",
      "                                6)                                'conv2d_143[0][0]']             \n",
      "                                                                                                  \n",
      " conv2d_154 (Conv2D)            (None, 256, 256, 12  295040      ['concatenate_30[0][0]']         \n",
      "                                8)                                                                \n",
      "                                                                                                  \n",
      " conv2d_155 (Conv2D)            (None, 256, 256, 12  147584      ['conv2d_154[0][0]']             \n",
      "                                8)                                                                \n",
      "                                                                                                  \n",
      " conv2d_transpose_31 (Conv2DTra  (None, 512, 512, 64  32832      ['conv2d_155[0][0]']             \n",
      " nspose)                        )                                                                 \n",
      "                                                                                                  \n",
      " concatenate_31 (Concatenate)   (None, 512, 512, 12  0           ['conv2d_transpose_31[0][0]',    \n",
      "                                8)                                'conv2d_141[0][0]']             \n",
      "                                                                                                  \n",
      " conv2d_156 (Conv2D)            (None, 512, 512, 64  73792       ['concatenate_31[0][0]']         \n",
      "                                )                                                                 \n",
      "                                                                                                  \n",
      " conv2d_157 (Conv2D)            (None, 512, 512, 64  36928       ['conv2d_156[0][0]']             \n",
      "                                )                                                                 \n",
      "                                                                                                  \n",
      " conv2d_158 (Conv2D)            (None, 512, 512, 2)  1154        ['conv2d_157[0][0]']             \n",
      "                                                                                                  \n",
      " conv2d_159 (Conv2D)            (None, 512, 512, 1)  3           ['conv2d_158[0][0]']             \n",
      "                                                                                                  \n",
      "==================================================================================================\n",
      "Total params: 31,032,837\n",
      "Trainable params: 31,032,837\n",
      "Non-trainable params: 0\n",
      "__________________________________________________________________________________________________\n"
     ]
    }
   ],
   "source": [
    "\n",
    "\n",
    "#Build the model\n",
    "inp = tf.keras.layers.Input((IMG_HEIGHT, IMG_WIDTH, IMG_CHANNELS))\n",
    "\n",
    "#Contraction path\n",
    "conv1 = tf.keras.layers.Conv2D(64, (3, 3), \n",
    "                            activation='relu', \n",
    "                            kernel_initializer='he_normal', \n",
    "                            padding='same'\n",
    "                            )(inp)\n",
    "conv1 = tf.keras.layers.Conv2D(64, (3, 3), \n",
    "                            activation='relu', \n",
    "                            kernel_initializer='he_normal', \n",
    "                            padding='same'\n",
    "                            )(conv1)\n",
    "pool1 = tf.keras.layers.MaxPooling2D((2, 2))(conv1)\n",
    "\n",
    "conv2 = tf.keras.layers.Conv2D(128, (3, 3), \n",
    "                               activation='relu', \n",
    "                               kernel_initializer='he_normal', \n",
    "                               padding='same'\n",
    "                               )(pool1)\n",
    "conv2 = tf.keras.layers.Conv2D(128, (3, 3), \n",
    "                               activation='relu', \n",
    "                               kernel_initializer='he_normal', \n",
    "                               padding='same'\n",
    "                               )(conv2)\n",
    "pool2 = tf.keras.layers.MaxPooling2D((2, 2))(conv2)\n",
    " \n",
    "conv3 = tf.keras.layers.Conv2D(256, (3, 3), \n",
    "                            activation='relu', \n",
    "                            kernel_initializer='he_normal', \n",
    "                            padding='same'\n",
    "                            )(pool2)\n",
    "conv3 = tf.keras.layers.Conv2D(256, (3, 3), \n",
    "                               activation='relu', \n",
    "                               kernel_initializer='he_normal', \n",
    "                               padding='same'\n",
    "                               )(conv3)\n",
    "pool3 = tf.keras.layers.MaxPooling2D((2, 2))(conv3)\n",
    " \n",
    "conv4 = tf.keras.layers.Conv2D(512, (3, 3), \n",
    "                            activation='relu', \n",
    "                            kernel_initializer='he_normal', \n",
    "                            padding='same'\n",
    "                            )(pool3)\n",
    "conv4 = tf.keras.layers.Conv2D(512, (3, 3), \n",
    "                            activation='relu', \n",
    "                            kernel_initializer='he_normal', \n",
    "                            padding='same'\n",
    "                            )(conv4)\n",
    "drop4 = tf.keras.layers.Dropout(0.2)(conv4)\n",
    "pool4 = tf.keras.layers.MaxPooling2D(pool_size=(2, 2))(drop4)\n",
    " \n",
    "conv5 = tf.keras.layers.Conv2D(1024, (3, 3), \n",
    "                            activation='relu', \n",
    "                            kernel_initializer='he_normal', \n",
    "                            padding='same'\n",
    "                            )(pool4)\n",
    "conv5 = tf.keras.layers.Conv2D(1024, (3, 3), \n",
    "                            activation='relu', \n",
    "                            kernel_initializer='he_normal', \n",
    "                            padding='same'\n",
    "                            )(conv5)\n",
    "drop5 = tf.keras.layers.Dropout(0.3)(conv5)\n",
    "\n",
    "\n",
    "#Expansive path \n",
    "up6 = tf.keras.layers.Conv2DTranspose(512, (2, 2), strides=(2, 2), padding='same')(drop5)\n",
    "merge6 = tf.keras.layers.concatenate([up6, drop4])\n",
    "conv6 = tf.keras.layers.Conv2D(512, (3, 3), \n",
    "                            activation='relu', \n",
    "                            kernel_initializer='he_normal', \n",
    "                            padding='same'\n",
    "                            )(merge6)\n",
    "conv6 = tf.keras.layers.Conv2D(512, (3, 3), \n",
    "                               activation='relu', \n",
    "                               kernel_initializer='he_normal', \n",
    "                               padding='same'\n",
    "                               )(conv6)\n",
    " \n",
    "up7 = tf.keras.layers.Conv2DTranspose(256, (2, 2), strides=(2, 2), padding='same')(conv6)\n",
    "merge7 = tf.keras.layers.concatenate([up7, conv3])\n",
    "conv7 = tf.keras.layers.Conv2D(256, (3, 3), \n",
    "                            activation='relu', \n",
    "                            kernel_initializer='he_normal', \n",
    "                            padding='same'\n",
    "                            )(merge7)\n",
    "conv7 = tf.keras.layers.Conv2D(256, (3, 3), \n",
    "                               activation='relu', \n",
    "                               kernel_initializer='he_normal', \n",
    "                               padding='same'\n",
    "                               )(conv7)\n",
    " \n",
    "up8 = tf.keras.layers.Conv2DTranspose(128, (2, 2), strides=(2, 2), padding='same')(conv7)\n",
    "merge8 = tf.keras.layers.concatenate([up8, conv2])\n",
    "conv8 = tf.keras.layers.Conv2D(128, (3, 3), \n",
    "                            activation='relu', \n",
    "                            kernel_initializer='he_normal', \n",
    "                            padding='same'\n",
    "                            )(merge8)\n",
    "conv8 = tf.keras.layers.Conv2D(128, (3, 3), \n",
    "                               activation='relu', \n",
    "                               kernel_initializer='he_normal', \n",
    "                               padding='same'\n",
    "                               )(conv8)\n",
    " \n",
    "up9 = tf.keras.layers.Conv2DTranspose(64, (2, 2), strides=(2, 2), padding='same')(conv8)\n",
    "merge9 = tf.keras.layers.concatenate([up9, conv1], axis=3)\n",
    "conv9 = tf.keras.layers.Conv2D(64, (3, 3), \n",
    "                            activation='relu', \n",
    "                            kernel_initializer='he_normal', \n",
    "                            padding='same'\n",
    "                            )(merge9)\n",
    "conv9 = tf.keras.layers.Conv2D(64, (3, 3), \n",
    "                            activation='relu', \n",
    "                            kernel_initializer='he_normal', \n",
    "                            padding='same'\n",
    "                            )(conv9)\n",
    "conv9 = tf.keras.layers.Conv2D(2, (3, 3), \n",
    "                            activation='relu', \n",
    "                            kernel_initializer='he_normal', \n",
    "                            padding='same'\n",
    "                            )(conv9)\n",
    "\n",
    "out = tf.keras.layers.Conv2D(1, (1, 1), activation='sigmoid')(conv9)\n",
    " \n",
    "model = tf.keras.Model(inputs=[inp], outputs=[out])\n",
    "model.compile(optimizer='Adam', loss='binary_crossentropy', metrics=['accuracy'])\n",
    "model.summary()"
   ]
  },
  {
   "attachments": {},
   "cell_type": "markdown",
   "metadata": {},
   "source": [
    "Training the model"
   ]
  },
  {
   "cell_type": "code",
   "execution_count": 181,
   "metadata": {},
   "outputs": [],
   "source": [
    "# checkpointer = tf.keras.callbacks.ModelCheckpoint('model_for_nuclei.h5', \n",
    "#                                                   verbose=1, \n",
    "#                                                   save_best_only=True)\n",
    "# callbacks = [\n",
    "#         tf.keras.callbacks.EarlyStopping(patience=2, monitor='val_loss'),\n",
    "#         tf.keras.callbacks.TensorBoard(log_dir='logs')]\n",
    "\n",
    "# results = model.fit(X_train, y_train, validation_split=0.1, batch_size=16, epochs=25, callbacks=callbacks)"
   ]
  }
 ],
 "metadata": {
  "kernelspec": {
   "display_name": "Python 3",
   "language": "python",
   "name": "python3"
  },
  "language_info": {
   "codemirror_mode": {
    "name": "ipython",
    "version": 3
   },
   "file_extension": ".py",
   "mimetype": "text/x-python",
   "name": "python",
   "nbconvert_exporter": "python",
   "pygments_lexer": "ipython3",
   "version": "3.10.7"
  },
  "orig_nbformat": 4
 },
 "nbformat": 4,
 "nbformat_minor": 2
}
